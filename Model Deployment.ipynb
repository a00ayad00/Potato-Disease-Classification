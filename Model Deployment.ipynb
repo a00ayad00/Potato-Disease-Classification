{
 "cells": [
  {
   "cell_type": "markdown",
   "id": "f6b238a9",
   "metadata": {},
   "source": [
    "### <span style=\"color:chocolate\">This phase is just the completion of a project</span>\n",
    "**You can pick up the repo for this project on my GitHub from [here](https://github.com/a00ayad00/Potato-Disease-Classification)**"
   ]
  },
  {
   "cell_type": "markdown",
   "id": "88e34f4d",
   "metadata": {},
   "source": [
    "# <span style=\"color:blue\">5- Model Deployment</span>"
   ]
  },
  {
   "cell_type": "code",
   "execution_count": 1,
   "id": "d5d752c3",
   "metadata": {},
   "outputs": [],
   "source": [
    "import os\n",
    "\n",
    "os.chdir('D:\\Projects\\Computer Vision\\Potato Disease Classification')"
   ]
  },
  {
   "cell_type": "code",
   "execution_count": 2,
   "id": "40ef8d95",
   "metadata": {},
   "outputs": [],
   "source": [
    "try: os.mkdir('api')\n",
    "except: pass"
   ]
  },
  {
   "cell_type": "markdown",
   "id": "a4006260",
   "metadata": {},
   "source": [
    "### <span style=\"color:chocolate\">Server Testing</span>"
   ]
  },
  {
   "cell_type": "code",
   "execution_count": 3,
   "id": "6949fb20",
   "metadata": {},
   "outputs": [],
   "source": [
    "from fastapi import FastAPI\n",
    "# from fastapi.middleware.cors import CORSMiddleware"
   ]
  },
  {
   "cell_type": "code",
   "execution_count": 4,
   "id": "35854317",
   "metadata": {},
   "outputs": [],
   "source": [
    "app = FastAPI(title = 'Potato Disease Classification')"
   ]
  },
  {
   "cell_type": "code",
   "execution_count": 5,
   "id": "4c190112",
   "metadata": {},
   "outputs": [],
   "source": [
    "# origins = [\n",
    "#     \"http://localhost\",\n",
    "#     \"http://localhost:3000\",\n",
    "# ]\n",
    "\n",
    "# app.add_middleware(\n",
    "#     CORSMiddleware,\n",
    "#     allow_origins=origins,\n",
    "#     allow_credentials=True,\n",
    "#     allow_methods=[\"*\"],\n",
    "#     allow_headers=[\"*\"],\n",
    "# )"
   ]
  },
  {
   "cell_type": "code",
   "execution_count": 6,
   "id": "9a582f46",
   "metadata": {},
   "outputs": [],
   "source": [
    "@app.get(\"/\") # Endpoint Creating\n",
    "\n",
    "def ping():\n",
    "    return \"Hiya, I'm Ayad and this is my project for Potato Disease Classification\""
   ]
  },
  {
   "cell_type": "code",
   "execution_count": 7,
   "id": "b6139412",
   "metadata": {},
   "outputs": [],
   "source": [
    "import uvicorn\n",
    "import nest_asyncio"
   ]
  },
  {
   "cell_type": "code",
   "execution_count": 8,
   "id": "8a3324a6",
   "metadata": {},
   "outputs": [],
   "source": [
    "nest_asyncio.apply()\n",
    "\n",
    "# uvicorn.run(app, host='localhost', port=8000)"
   ]
  },
  {
   "cell_type": "markdown",
   "id": "e674b7e4",
   "metadata": {},
   "source": [
    "### <span style=\"color:chocolate\">Load / import the Model</span>"
   ]
  },
  {
   "cell_type": "code",
   "execution_count": 9,
   "id": "10513920",
   "metadata": {},
   "outputs": [],
   "source": [
    "from tensorflow.keras.models import load_model"
   ]
  },
  {
   "cell_type": "code",
   "execution_count": 10,
   "id": "3374d2eb",
   "metadata": {},
   "outputs": [],
   "source": [
    "latest_update_version = max(int(i) for i in os.listdir('models'))"
   ]
  },
  {
   "cell_type": "code",
   "execution_count": 11,
   "id": "9ba181ea",
   "metadata": {},
   "outputs": [
    {
     "data": {
      "text/plain": [
       "<keras.engine.sequential.Sequential at 0x2f015ad0d90>"
      ]
     },
     "execution_count": 11,
     "metadata": {},
     "output_type": "execute_result"
    }
   ],
   "source": [
    "model = load_model(f'models/{latest_update_version}')\n",
    "model"
   ]
  },
  {
   "cell_type": "markdown",
   "id": "e479d085",
   "metadata": {},
   "source": [
    "### <span style=\"color:chocolate\">Putting the software required for predicting in a Server</span>"
   ]
  },
  {
   "cell_type": "code",
   "execution_count": 12,
   "id": "1b575db4",
   "metadata": {},
   "outputs": [],
   "source": [
    "from fastapi import File, UploadFile\n",
    "from io import BytesIO\n",
    "\n",
    "from PIL import Image\n",
    "import numpy as np\n",
    "\n",
    "from tensorflow import newaxis"
   ]
  },
  {
   "cell_type": "code",
   "execution_count": 13,
   "id": "4c5f0ba5",
   "metadata": {},
   "outputs": [],
   "source": [
    "class_names = ['Early Blight', 'Late Blight', 'Healthy']"
   ]
  },
  {
   "cell_type": "code",
   "execution_count": 14,
   "id": "01cef80c",
   "metadata": {},
   "outputs": [],
   "source": [
    "def read_file_as_image(data) -> np.ndarray:\n",
    "    image = np.array(Image.open(BytesIO(data)))\n",
    "    return image"
   ]
  },
  {
   "cell_type": "code",
   "execution_count": 15,
   "id": "8d6c99c0",
   "metadata": {},
   "outputs": [],
   "source": [
    "@app.post(\"/predict\")\n",
    "\n",
    "async def predict(file: UploadFile = File(...)):\n",
    "    \n",
    "    image = read_file_as_image(await file.read())\n",
    "    \n",
    "    img_batch = np.expand_dims(image, 0)\n",
    "\n",
    "    prediction = model.predict(img_batch)\n",
    "    \n",
    "    predicted_class = class_names[np.argmax(prediction)]\n",
    "    confidence = np.max(prediction)\n",
    "    \n",
    "    return {\n",
    "        \"class\": predicted_class,\n",
    "        \"confidence\": float(confidence)\n",
    "    }"
   ]
  },
  {
   "cell_type": "code",
   "execution_count": 17,
   "id": "1027a57d",
   "metadata": {},
   "outputs": [
    {
     "name": "stderr",
     "output_type": "stream",
     "text": [
      "INFO:     Started server process [6296]\n",
      "INFO:     Waiting for application startup.\n",
      "INFO:     Application startup complete.\n",
      "INFO:     Uvicorn running on http://localhost:8000 (Press CTRL+C to quit)\n"
     ]
    },
    {
     "name": "stdout",
     "output_type": "stream",
     "text": [
      "INFO:     ::1:58842 - \"GET / HTTP/1.1\" 200 OK\n",
      "INFO:     ::1:58841 - \"GET /docs HTTP/1.1\" 200 OK\n",
      "INFO:     ::1:58841 - \"GET /openapi.json HTTP/1.1\" 200 OK\n",
      "INFO:     ::1:58843 - \"POST /predict HTTP/1.1\" 200 OK\n",
      "INFO:     ::1:58846 - \"POST /predict HTTP/1.1\" 200 OK\n"
     ]
    },
    {
     "name": "stderr",
     "output_type": "stream",
     "text": [
      "INFO:     Shutting down\n",
      "INFO:     Waiting for application shutdown.\n",
      "INFO:     Application shutdown complete.\n",
      "INFO:     Finished server process [6296]\n"
     ]
    }
   ],
   "source": [
    "uvicorn.run(app, host='localhost', port=8000)"
   ]
  },
  {
   "cell_type": "markdown",
   "id": "855c4ae2",
   "metadata": {},
   "source": [
    "# <span style=\"color:red\">@@@@@@@@@@@@ Ayad @@@@@@@@@@@@</span>"
   ]
  }
 ],
 "metadata": {
  "kernelspec": {
   "display_name": "Python 3 (ipykernel)",
   "language": "python",
   "name": "python3"
  },
  "language_info": {
   "codemirror_mode": {
    "name": "ipython",
    "version": 3
   },
   "file_extension": ".py",
   "mimetype": "text/x-python",
   "name": "python",
   "nbconvert_exporter": "python",
   "pygments_lexer": "ipython3",
   "version": "3.9.7"
  }
 },
 "nbformat": 4,
 "nbformat_minor": 5
}
